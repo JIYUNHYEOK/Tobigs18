{
  "cells": [
    {
      "cell_type": "markdown",
      "metadata": {
        "id": "lt1H5o-poBfF"
      },
      "source": [
        "# 1. GPU 설정 및 하이퍼파라미터 설정\n"
      ]
    },
    {
      "cell_type": "code",
      "execution_count": null,
      "metadata": {
        "id": "B1X8mpttn-Vi"
      },
      "outputs": [],
      "source": [
        "import torch\n",
        "import torch.nn as nn\n",
        "import torch.nn.functional as F\n",
        "import torch.optim as optim\n",
        "import torchvision\n",
        "import torchvision.transforms as transfroms\n",
        " \n",
        "device = 'cuda' if torch.cuda.is_available() else 'cpu'\n",
        "torch.manual_seed(777)\n",
        "# 현재 파이썬이 실행되고 있는 환경이서 torch 모듈을 이용할 때, GPU를 이용할 수 있는지를 확인\n",
        "if device == 'cuda':\n",
        "    torch.cuda.manual_seed_all(777)\n",
        "print(device + \" is available\")\n",
        " \n",
        "# 학습률 설정\n",
        "learning_rate = 0.001\n",
        "# 배치사이즈 설정: 파라미터를 업데이트할 때, 계산되는 데이터의 수 / 파라미터는 배치단위로 수행\n",
        "batch_size = 100\n",
        "# 클래스의 갯수\n",
        "num_classes = 10\n",
        "# 에포크 수\n",
        "epochs = 5"
      ]
    },
    {
      "cell_type": "markdown",
      "metadata": {
        "id": "dWzCD1LRn-vT"
      },
      "source": [
        "# 2. 데이터셋 불러오기"
      ]
    },
    {
      "cell_type": "code",
      "execution_count": null,
      "metadata": {
        "id": "7YfkyOQioSBj"
      },
      "outputs": [],
      "source": [
        "# MNIST 데이터 다운로드 후, Train, Test set 분리;\n",
        "train_set = torchvision.datasets.MNIST(\n",
        "    # root: 데이터가 저장될 장소, 경로를 지정\n",
        "    root = './data/MNIST',\n",
        "    # train: train 데이터셋인지, test 데이터셋인지 설정\n",
        "    train = True,\n",
        "    # download: 인터넷에서 다운로드해 이용할 것인지 결정하는 요소\n",
        "    download = True,\n",
        "    # transform: 다운로드할 때, 기본적인 전처리를 동시에 시행할 수 있음\n",
        "    # transforms.ToTensor(): Tensor 형태로 변환하고, pixel 값을 255로 나누어, 0~1 사이의 숫자로 정규화\n",
        "    transform = transfroms.Compose([\n",
        "        transfroms.ToTensor() \n",
        "    ])\n",
        ")\n",
        "test_set = torchvision.datasets.MNIST(\n",
        "    root = './data/MNIST',\n",
        "    train = False,\n",
        "    download = True,\n",
        "    transform = transfroms.Compose([\n",
        "        transfroms.ToTensor()\n",
        "    ])\n",
        ")"
      ]
    },
    {
      "cell_type": "markdown",
      "metadata": {
        "id": "VQ_MTPYyoUbo"
      },
      "source": [
        "# 3. DataLoader를 통하여 학습용 데이터 준비하기"
      ]
    },
    {
      "cell_type": "code",
      "execution_count": null,
      "metadata": {
        "id": "LQee8cNioUjL"
      },
      "outputs": [],
      "source": [
        "# DataLoader: 다운로드한 dataset을 mini-batch 단위로 분리하여 불러오기 위하 loader\n",
        "# shuffle: 데이터의 순서를 섞을때 사용, 보통은 train=True, test=False\n",
        "train_loader = torch.utils.data.DataLoader(train_set, batch_size=batch_size)\n",
        "test_loader = torch.utils.data.DataLoader(test_set, batch_size=batch_size)\n",
        "\n",
        "examples = enumerate(train_set)\n",
        "batch_idx, (example_data, example_targets) = next(examples)\n",
        "example_data.shape"
      ]
    },
    {
      "cell_type": "markdown",
      "metadata": {
        "id": "xDVGW05NoUri"
      },
      "source": [
        "# 4. 모델 설계"
      ]
    },
    {
      "cell_type": "code",
      "execution_count": null,
      "metadata": {},
      "outputs": [],
      "source": [
        "class ConvNet(nn.Module):\n",
        "      def __init__(self): \n",
        "        super(ConvNet, self).__init__()\n",
        "        \n",
        "        # in_channels = 1, out_channels = 10, kernel_size = 5, stride = 1인 Conv2d\n",
        "        self.conv1 = nn.Conv2d(1, 10, kernel_size=5)\n",
        "        # in_channels = 10, out_channels = 20, kernel_size = 5, stride = 1인 Conv2d\n",
        "        self.conv2 = nn.Conv2d(10, 20, kernel_size=5)\n",
        "        # Dropout 적용 레이어 노드 중 25%에만 dropout을 적용\n",
        "        self.drop2D = nn.Dropout2d(p=0.25, inplace=False)\n",
        "        # kernel_size = 2인 Maxpool\n",
        "        self.mp = nn.MaxPool2d(2)\n",
        "        # in_features = 320, out_features = 100인 Linear (fully-connected layer)\n",
        "        self.fc1 = nn.Linear(320,100)\n",
        "        # in_features = 100, out_features = 10인 Linear (fully-connected layer)\n",
        "        # 여기서 out_features=10 = num_classes (클래스의 갯수)\n",
        "        self.fc2 = nn.Linear(100,10) \n",
        "\n",
        "  def forward(self, x):\n",
        "        # conv1 -> maxpool -> relu\n",
        "        x = F.relu(self.mp(self.conv1(x)))\n",
        "        # conv2 -> maxpool -> relu \n",
        "        x = F.relu(self.mp(self.conv2(x))) \n",
        "        # dropout\n",
        "        x = self.drop2D(x)\n",
        "        # flatten\n",
        "        x = x.view(x.size(0), -1)\n",
        "        # fully-connected layer\n",
        "        x = self.fc1(x)\n",
        "        # fully-connected layer\n",
        "        x = self.fc2(x) \n",
        "        return F.log_softmax(x) "
      ]
    },
    {
      "cell_type": "markdown",
      "metadata": {
        "id": "ccwsHldkoU3w"
      },
      "source": [
        "# 5. 모델을 GPU로 설정 및 Criterion, Optimizer 설정"
      ]
    },
    {
      "cell_type": "code",
      "execution_count": null,
      "metadata": {
        "id": "XN9BQMZJoU8b"
      },
      "outputs": [],
      "source": [
        "# 정의한 네트워크를 GPU에 올리는 과정\n",
        "model = ConvNet().to(device) \n",
        "# Cross Entropy 함수 사용\n",
        "criterion = nn.CrossEntropyLoss().to(device)\n",
        "# Adam Optimizer 사용\n",
        "optimizer = torch.optim.Adam(model.parameters(), lr = learning_rate)"
      ]
    },
    {
      "cell_type": "markdown",
      "metadata": {
        "id": "35KJ9PP9oVCI"
      },
      "source": [
        "# 6. 모델 학습"
      ]
    },
    {
      "cell_type": "code",
      "execution_count": null,
      "metadata": {
        "id": "_aJMrF54oVGV"
      },
      "outputs": [],
      "source": [
        "for epoch in range(epochs): \n",
        "    avg_cost = 0\n",
        "\n",
        "    for data, target in train_loader:\n",
        "        data = data.to(device)\n",
        "        target = target.to(device)\n",
        "        # 모든 모델의 gradient 값을 0으로 설정\n",
        "        # 이전 배치에서 사용했던 gradient를 현 배치에서는 사용하지 않기 때문에 gradient를 0으로 초기화\n",
        "        optimizer.zero_grad()\n",
        "        hypothesis = model(data)\n",
        "        cost = criterion(hypothesis, target)\n",
        "        # reqires_grad = Trur인 모든 Parameter Update에 사용되는 Gradient를 계산\n",
        "        cost.backward()\n",
        "        # Update 진행\n",
        "        optimizer.step() \n",
        "        avg_cost += cost / len(train_loader) \n",
        "    print('[Epoch: {:>4}] cost = {:>.9}'.format(epoch + 1, avg_cost))"
      ]
    },
    {
      "cell_type": "markdown",
      "metadata": {
        "id": "5bxJSYFToVLy"
      },
      "source": [
        "# 7. 모델 성능평가"
      ]
    },
    {
      "cell_type": "code",
      "execution_count": null,
      "metadata": {
        "id": "7yzDsZ9roVQM"
      },
      "outputs": [],
      "source": [
        "# dropout과 같이, train과 val/test가 달라지는 레이어를 위하여 사용\n",
        "model.eval()\n",
        "# Gradient를 추가 계산하지 않고 고정시킨 상태에서 실행\n",
        "# Gradient 계산을 위한 메모리를 더 이상 할당할 필요가 없기 때문에 메모리 공간을 차지하지 않도록 미리 선언\n",
        "with torch.no_grad(): \n",
        "    correct = 0\n",
        "    total = 0\n",
        "\n",
        "    for data, target in test_loader:\n",
        "        data = data.to(device)\n",
        "        target = target.to(device)\n",
        "        out = model(data)\n",
        "        # 확률이 가장 높은 첫번째 아이템 값을 리턴 \n",
        "        preds = torch.max(out.data, 1)[1] \n",
        "        total += len(target)\n",
        "        # 전체 TEST Dataset에서 몇 개 맞았는지\n",
        "        correct += (preds==target).sum().item() \n",
        "        \n",
        "    print('Test Accuracy: ', 100.*correct/total, '%')"
      ]
    }
  ],
  "metadata": {
    "accelerator": "GPU",
    "colab": {
      "collapsed_sections": [],
      "name": "Framework_PyTorch.ipynb",
      "provenance": []
    },
    "gpuClass": "standard",
    "kernelspec": {
      "display_name": "Python 3.10.4 64-bit",
      "language": "python",
      "name": "python3"
    },
    "language_info": {
      "codemirror_mode": {
        "name": "ipython",
        "version": 3
      },
      "file_extension": ".py",
      "mimetype": "text/x-python",
      "name": "python",
      "nbconvert_exporter": "python",
      "pygments_lexer": "ipython3",
      "version": "3.10.4"
    },
    "vscode": {
      "interpreter": {
        "hash": "7c85ea53c901e2ac76bbe17063bc7ac2b860f58d4ef39b616817f6012412a321"
      }
    }
  },
  "nbformat": 4,
  "nbformat_minor": 0
}
